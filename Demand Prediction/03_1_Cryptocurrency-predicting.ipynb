{
 "cells": [
  {
   "cell_type": "code",
   "execution_count": 2,
   "metadata": {},
   "outputs": [],
   "source": [
    "import pandas as pd\n",
    "\n",
    "df = pd.read_csv(\"DemandPrediction_Final.csv\", header=None)"
   ]
  },
  {
   "cell_type": "code",
   "execution_count": 3,
   "metadata": {},
   "outputs": [],
   "source": [
    "#df.iloc[:,df.columns != 2]\n",
    "\n",
    "# df.drop([2,5,8,11], axis=1)\n",
    "\n",
    "df = df[[0,1,4,7,10,13]]"
   ]
  },
  {
   "cell_type": "code",
   "execution_count": 4,
   "metadata": {},
   "outputs": [],
   "source": [
    "new_header = df.iloc[0]\n",
    "df = df[1:] \n",
    "new_header[0] = 'Date'\n",
    "df.columns = new_header\n"
   ]
  },
  {
   "cell_type": "code",
   "execution_count": 5,
   "metadata": {},
   "outputs": [],
   "source": [
    "SEQ_LEN = 60  # how long of a preceeding sequence to collect for RNN\n",
    "FUTURE_PERIOD_PREDICT = 3  # how far into the future are we trying to predict?\n",
    "main_df = df"
   ]
  },
  {
   "cell_type": "code",
   "execution_count": 6,
   "metadata": {},
   "outputs": [],
   "source": [
    "RATIO_TO_PREDICT = \"LOS ANGLES\"\n",
    "main_df[f'{RATIO_TO_PREDICT}_future'] = df[RATIO_TO_PREDICT].shift(-FUTURE_PERIOD_PREDICT)"
   ]
  },
  {
   "cell_type": "code",
   "execution_count": 7,
   "metadata": {},
   "outputs": [
    {
     "output_type": "execute_result",
     "data": {
      "text/plain": [
       "0      Date LOS ANGLES ATLANTA WASHANGTON NEW YORK SEATEL LOS ANGLES_future\n",
       "1  2015/1/1      11284   65145       2196    19452   5136             14660\n",
       "2  2015/1/2      15418   94584       3093    25512   7273             13206\n",
       "3  2015/1/3      13835   83493       2477    22200   7190             12545\n",
       "4  2015/1/4      14660   94283       2909    24565   7347             13052\n",
       "5  2015/1/5      13206   98617       3553    23419   5985             13328"
      ],
      "text/html": "<div>\n<style scoped>\n    .dataframe tbody tr th:only-of-type {\n        vertical-align: middle;\n    }\n\n    .dataframe tbody tr th {\n        vertical-align: top;\n    }\n\n    .dataframe thead th {\n        text-align: right;\n    }\n</style>\n<table border=\"1\" class=\"dataframe\">\n  <thead>\n    <tr style=\"text-align: right;\">\n      <th></th>\n      <th>Date</th>\n      <th>LOS ANGLES</th>\n      <th>ATLANTA</th>\n      <th>WASHANGTON</th>\n      <th>NEW YORK</th>\n      <th>SEATEL</th>\n      <th>LOS ANGLES_future</th>\n    </tr>\n  </thead>\n  <tbody>\n    <tr>\n      <th>1</th>\n      <td>2015/1/1</td>\n      <td>11284</td>\n      <td>65145</td>\n      <td>2196</td>\n      <td>19452</td>\n      <td>5136</td>\n      <td>14660</td>\n    </tr>\n    <tr>\n      <th>2</th>\n      <td>2015/1/2</td>\n      <td>15418</td>\n      <td>94584</td>\n      <td>3093</td>\n      <td>25512</td>\n      <td>7273</td>\n      <td>13206</td>\n    </tr>\n    <tr>\n      <th>3</th>\n      <td>2015/1/3</td>\n      <td>13835</td>\n      <td>83493</td>\n      <td>2477</td>\n      <td>22200</td>\n      <td>7190</td>\n      <td>12545</td>\n    </tr>\n    <tr>\n      <th>4</th>\n      <td>2015/1/4</td>\n      <td>14660</td>\n      <td>94283</td>\n      <td>2909</td>\n      <td>24565</td>\n      <td>7347</td>\n      <td>13052</td>\n    </tr>\n    <tr>\n      <th>5</th>\n      <td>2015/1/5</td>\n      <td>13206</td>\n      <td>98617</td>\n      <td>3553</td>\n      <td>23419</td>\n      <td>5985</td>\n      <td>13328</td>\n    </tr>\n  </tbody>\n</table>\n</div>"
     },
     "metadata": {},
     "execution_count": 7
    }
   ],
   "source": [
    "main_df.head()"
   ]
  },
  {
   "cell_type": "code",
   "execution_count": 8,
   "metadata": {},
   "outputs": [],
   "source": [
    "def classify(current, future):\n",
    "    if float(future) > float(current):\n",
    "        return 1\n",
    "    else:\n",
    "        return 0"
   ]
  },
  {
   "cell_type": "code",
   "execution_count": 9,
   "metadata": {},
   "outputs": [],
   "source": [
    "RATIO_TO_PREDICT = \"LOS ANGLES\"\n",
    "\n",
    "main_df[f'{RATIO_TO_PREDICT}_target'] = list(map(classify, main_df[RATIO_TO_PREDICT], main_df[f'{RATIO_TO_PREDICT}_future']))"
   ]
  },
  {
   "cell_type": "code",
   "execution_count": 10,
   "metadata": {},
   "outputs": [
    {
     "output_type": "execute_result",
     "data": {
      "text/plain": [
       "0      Date LOS ANGLES ATLANTA WASHANGTON NEW YORK SEATEL LOS ANGLES_future  \\\n",
       "1  2015/1/1      11284   65145       2196    19452   5136             14660   \n",
       "2  2015/1/2      15418   94584       3093    25512   7273             13206   \n",
       "3  2015/1/3      13835   83493       2477    22200   7190             12545   \n",
       "4  2015/1/4      14660   94283       2909    24565   7347             13052   \n",
       "5  2015/1/5      13206   98617       3553    23419   5985             13328   \n",
       "\n",
       "0  LOS ANGLES_target  \n",
       "1                  1  \n",
       "2                  0  \n",
       "3                  0  \n",
       "4                  0  \n",
       "5                  1  "
      ],
      "text/html": "<div>\n<style scoped>\n    .dataframe tbody tr th:only-of-type {\n        vertical-align: middle;\n    }\n\n    .dataframe tbody tr th {\n        vertical-align: top;\n    }\n\n    .dataframe thead th {\n        text-align: right;\n    }\n</style>\n<table border=\"1\" class=\"dataframe\">\n  <thead>\n    <tr style=\"text-align: right;\">\n      <th></th>\n      <th>Date</th>\n      <th>LOS ANGLES</th>\n      <th>ATLANTA</th>\n      <th>WASHANGTON</th>\n      <th>NEW YORK</th>\n      <th>SEATEL</th>\n      <th>LOS ANGLES_future</th>\n      <th>LOS ANGLES_target</th>\n    </tr>\n  </thead>\n  <tbody>\n    <tr>\n      <th>1</th>\n      <td>2015/1/1</td>\n      <td>11284</td>\n      <td>65145</td>\n      <td>2196</td>\n      <td>19452</td>\n      <td>5136</td>\n      <td>14660</td>\n      <td>1</td>\n    </tr>\n    <tr>\n      <th>2</th>\n      <td>2015/1/2</td>\n      <td>15418</td>\n      <td>94584</td>\n      <td>3093</td>\n      <td>25512</td>\n      <td>7273</td>\n      <td>13206</td>\n      <td>0</td>\n    </tr>\n    <tr>\n      <th>3</th>\n      <td>2015/1/3</td>\n      <td>13835</td>\n      <td>83493</td>\n      <td>2477</td>\n      <td>22200</td>\n      <td>7190</td>\n      <td>12545</td>\n      <td>0</td>\n    </tr>\n    <tr>\n      <th>4</th>\n      <td>2015/1/4</td>\n      <td>14660</td>\n      <td>94283</td>\n      <td>2909</td>\n      <td>24565</td>\n      <td>7347</td>\n      <td>13052</td>\n      <td>0</td>\n    </tr>\n    <tr>\n      <th>5</th>\n      <td>2015/1/5</td>\n      <td>13206</td>\n      <td>98617</td>\n      <td>3553</td>\n      <td>23419</td>\n      <td>5985</td>\n      <td>13328</td>\n      <td>1</td>\n    </tr>\n  </tbody>\n</table>\n</div>"
     },
     "metadata": {},
     "execution_count": 10
    }
   ],
   "source": [
    "main_df.head()"
   ]
  },
  {
   "cell_type": "code",
   "execution_count": 11,
   "metadata": {},
   "outputs": [],
   "source": [
    "main_df.Date= pd.to_datetime(main_df.Date)\n",
    "main_df = main_df.set_index('Date')\n"
   ]
  },
  {
   "cell_type": "code",
   "execution_count": 12,
   "metadata": {},
   "outputs": [
    {
     "output_type": "execute_result",
     "data": {
      "text/plain": [
       "0          LOS ANGLES ATLANTA WASHANGTON NEW YORK SEATEL LOS ANGLES_future  \\\n",
       "Date                                                                         \n",
       "2015-01-01      11284   65145       2196    19452   5136             14660   \n",
       "2015-01-02      15418   94584       3093    25512   7273             13206   \n",
       "2015-01-03      13835   83493       2477    22200   7190             12545   \n",
       "2015-01-04      14660   94283       2909    24565   7347             13052   \n",
       "2015-01-05      13206   98617       3553    23419   5985             13328   \n",
       "\n",
       "0           LOS ANGLES_target  \n",
       "Date                           \n",
       "2015-01-01                  1  \n",
       "2015-01-02                  0  \n",
       "2015-01-03                  0  \n",
       "2015-01-04                  0  \n",
       "2015-01-05                  1  "
      ],
      "text/html": "<div>\n<style scoped>\n    .dataframe tbody tr th:only-of-type {\n        vertical-align: middle;\n    }\n\n    .dataframe tbody tr th {\n        vertical-align: top;\n    }\n\n    .dataframe thead th {\n        text-align: right;\n    }\n</style>\n<table border=\"1\" class=\"dataframe\">\n  <thead>\n    <tr style=\"text-align: right;\">\n      <th></th>\n      <th>LOS ANGLES</th>\n      <th>ATLANTA</th>\n      <th>WASHANGTON</th>\n      <th>NEW YORK</th>\n      <th>SEATEL</th>\n      <th>LOS ANGLES_future</th>\n      <th>LOS ANGLES_target</th>\n    </tr>\n    <tr>\n      <th>Date</th>\n      <th></th>\n      <th></th>\n      <th></th>\n      <th></th>\n      <th></th>\n      <th></th>\n      <th></th>\n    </tr>\n  </thead>\n  <tbody>\n    <tr>\n      <th>2015-01-01</th>\n      <td>11284</td>\n      <td>65145</td>\n      <td>2196</td>\n      <td>19452</td>\n      <td>5136</td>\n      <td>14660</td>\n      <td>1</td>\n    </tr>\n    <tr>\n      <th>2015-01-02</th>\n      <td>15418</td>\n      <td>94584</td>\n      <td>3093</td>\n      <td>25512</td>\n      <td>7273</td>\n      <td>13206</td>\n      <td>0</td>\n    </tr>\n    <tr>\n      <th>2015-01-03</th>\n      <td>13835</td>\n      <td>83493</td>\n      <td>2477</td>\n      <td>22200</td>\n      <td>7190</td>\n      <td>12545</td>\n      <td>0</td>\n    </tr>\n    <tr>\n      <th>2015-01-04</th>\n      <td>14660</td>\n      <td>94283</td>\n      <td>2909</td>\n      <td>24565</td>\n      <td>7347</td>\n      <td>13052</td>\n      <td>0</td>\n    </tr>\n    <tr>\n      <th>2015-01-05</th>\n      <td>13206</td>\n      <td>98617</td>\n      <td>3553</td>\n      <td>23419</td>\n      <td>5985</td>\n      <td>13328</td>\n      <td>1</td>\n    </tr>\n  </tbody>\n</table>\n</div>"
     },
     "metadata": {},
     "execution_count": 12
    }
   ],
   "source": [
    "main_df.head()"
   ]
  },
  {
   "cell_type": "code",
   "execution_count": 34,
   "metadata": {},
   "outputs": [],
   "source": [
    "times = sorted(main_df.index.values)  # get the times\n",
    "last_5_Percentage = sorted(main_df.index.values)[-int(0.05*len(times))]  # get the last 5% of the times\n",
    "\n",
    "validation_main_df = main_df[(main_df.index >= last_5_Percentage)]  # make the validation data where the index is in the last 5%\n",
    "main_df = main_df[(main_df.index < last_5_Percentage)]  # now the main_df is all the data up to the last 5%"
   ]
  },
  {
   "source": [
    "from sklearn import preprocessing\n",
    "from collections import deque\n",
    "import numpy as np\n",
    "import random\n",
    "\n",
    "def preprocess_df(df):\n",
    "    df = df.drop(columns=[f'{RATIO_TO_PREDICT}_future'])  # don't need this anymore.\n",
    "\n",
    "    for col in df.columns:  # go through all of the columns\n",
    "        if col != f'{RATIO_TO_PREDICT}_target':  # normalize all ... except for the target itself!\n",
    "            df[col] = df[col].astype(float).pct_change()  \n",
    "            # pct change \"normalizes\" the different currencies (each crypto coin has vastly diff values, we're really more interested in the other coin's movements)\n",
    "            df.dropna(inplace=True)  # remove the nas created by pct_change\n",
    "            df[col] = preprocessing.scale(df[col].values)  # scale between 0 and 1.\n",
    "\n",
    "    df.dropna(inplace=True)  # cleanup again... jic.\n",
    "\n",
    "\n",
    "    sequential_data = []  # this is a list that will CONTAIN the sequences\n",
    "    prev_days = deque(maxlen=SEQ_LEN)  # These will be our actual sequences. They are made with deque, which keeps the maximum length by popping out older values as new ones come in\n",
    "\n",
    "    for i in df.values:  # iterate over the values\n",
    "        prev_days.append([n for n in i[:-1]])  # store all but the target\n",
    "        if len(prev_days) == SEQ_LEN:  # make sure we have 60 sequences!\n",
    "            sequential_data.append([np.array(prev_days), i[-1]]) # append those bad boys!\n",
    "\n",
    "    random.shuffle(sequential_data)  # shuffle for good measure.\n",
    "    buys = []  # list that will store our buy sequences and targets\n",
    "    sells = []  # list that will store our sell sequences and targets\n",
    "\n",
    "    for seq, target in sequential_data:  # iterate over the sequential data\n",
    "        if target == 0:  # if it's a \"not buy\"\n",
    "            sells.append([seq, target])  # append to sells list\n",
    "        elif target == 1:  # otherwise if the target is a 1...\n",
    "            buys.append([seq, target])  # it's a buy!\n",
    "\n",
    "    random.shuffle(buys)  # shuffle the buys\n",
    "    random.shuffle(sells)  # shuffle the sells!\n",
    "\n",
    "    lower = min(len(buys), len(sells))  # what's the shorter length?\n",
    "\n",
    "    buys = buys[:lower]  # make sure both lists are only up to the shortest length.\n",
    "    sells = sells[:lower]  # make sure both lists are only up to the shortest length.\n",
    "\n",
    "    sequential_data = buys+sells  # add them together\n",
    "    random.shuffle(sequential_data)  # another shuffle, so the model doesn't get confused with all 1 class then the other.\n",
    "\n",
    "    X = []\n",
    "    y = []\n",
    "\n",
    "    for seq, target in sequential_data:  # going over our new sequential data\n",
    "        X.append(seq)  # X is the sequences\n",
    "        y.append(target)  # y is the targets/labels (buys vs sell/notbuy)\n",
    "\n",
    "    return np.array(X), y  # return X and y...and make X a numpy array!"
   ],
   "cell_type": "code",
   "metadata": {},
   "execution_count": 18,
   "outputs": []
  },
  {
   "cell_type": "code",
   "execution_count": 35,
   "metadata": {},
   "outputs": [],
   "source": [
    "train_x, train_y = preprocess_df(main_df)\n",
    "validation_x, validation_y = preprocess_df(validation_main_df)"
   ]
  },
  {
   "cell_type": "code",
   "execution_count": 36,
   "metadata": {},
   "outputs": [
    {
     "output_type": "execute_result",
     "data": {
      "text/plain": [
       "0          LOS ANGLES ATLANTA WASHANGTON NEW YORK SEATEL LOS ANGLES_future  \\\n",
       "Date                                                                         \n",
       "2015-02-01      11346   79146       2902    17664   4791             13472   \n",
       "2015-02-02      13260  102806       3808    24042   5971             13401   \n",
       "2015-02-03      12972   93852       4101    21318   5756             13405   \n",
       "2015-02-04      13472   98426       4247    21356   5502             11435   \n",
       "2015-02-05      13401  102485       4097    23814   5789             13146   \n",
       "2015-02-06      13405  102394       4097    23675   5963             13016   \n",
       "2015-02-07      11435   75457       2383    15619   5392             12968   \n",
       "2015-02-08      13146   95657       3519    21583   5829             13364   \n",
       "2015-02-09      13016  102914       3804    23556   6018             13163   \n",
       "2015-02-10      12968   94237       4099    21061   5917             14756   \n",
       "2015-02-11      13364   98269       4247    21342   5308             11080   \n",
       "2015-02-12      13163  102288       3992    23767   5974             11298   \n",
       "2015-02-13      14756  103255       3940    25759   6268             14343   \n",
       "\n",
       "0           LOS ANGLES_target  \n",
       "Date                           \n",
       "2015-02-01                  1  \n",
       "2015-02-02                  1  \n",
       "2015-02-03                  1  \n",
       "2015-02-04                  0  \n",
       "2015-02-05                  0  \n",
       "2015-02-06                  0  \n",
       "2015-02-07                  1  \n",
       "2015-02-08                  1  \n",
       "2015-02-09                  1  \n",
       "2015-02-10                  1  \n",
       "2015-02-11                  0  \n",
       "2015-02-12                  0  \n",
       "2015-02-13                  0  "
      ],
      "text/html": "<div>\n<style scoped>\n    .dataframe tbody tr th:only-of-type {\n        vertical-align: middle;\n    }\n\n    .dataframe tbody tr th {\n        vertical-align: top;\n    }\n\n    .dataframe thead th {\n        text-align: right;\n    }\n</style>\n<table border=\"1\" class=\"dataframe\">\n  <thead>\n    <tr style=\"text-align: right;\">\n      <th></th>\n      <th>LOS ANGLES</th>\n      <th>ATLANTA</th>\n      <th>WASHANGTON</th>\n      <th>NEW YORK</th>\n      <th>SEATEL</th>\n      <th>LOS ANGLES_future</th>\n      <th>LOS ANGLES_target</th>\n    </tr>\n    <tr>\n      <th>Date</th>\n      <th></th>\n      <th></th>\n      <th></th>\n      <th></th>\n      <th></th>\n      <th></th>\n      <th></th>\n    </tr>\n  </thead>\n  <tbody>\n    <tr>\n      <th>2015-02-01</th>\n      <td>11346</td>\n      <td>79146</td>\n      <td>2902</td>\n      <td>17664</td>\n      <td>4791</td>\n      <td>13472</td>\n      <td>1</td>\n    </tr>\n    <tr>\n      <th>2015-02-02</th>\n      <td>13260</td>\n      <td>102806</td>\n      <td>3808</td>\n      <td>24042</td>\n      <td>5971</td>\n      <td>13401</td>\n      <td>1</td>\n    </tr>\n    <tr>\n      <th>2015-02-03</th>\n      <td>12972</td>\n      <td>93852</td>\n      <td>4101</td>\n      <td>21318</td>\n      <td>5756</td>\n      <td>13405</td>\n      <td>1</td>\n    </tr>\n    <tr>\n      <th>2015-02-04</th>\n      <td>13472</td>\n      <td>98426</td>\n      <td>4247</td>\n      <td>21356</td>\n      <td>5502</td>\n      <td>11435</td>\n      <td>0</td>\n    </tr>\n    <tr>\n      <th>2015-02-05</th>\n      <td>13401</td>\n      <td>102485</td>\n      <td>4097</td>\n      <td>23814</td>\n      <td>5789</td>\n      <td>13146</td>\n      <td>0</td>\n    </tr>\n    <tr>\n      <th>2015-02-06</th>\n      <td>13405</td>\n      <td>102394</td>\n      <td>4097</td>\n      <td>23675</td>\n      <td>5963</td>\n      <td>13016</td>\n      <td>0</td>\n    </tr>\n    <tr>\n      <th>2015-02-07</th>\n      <td>11435</td>\n      <td>75457</td>\n      <td>2383</td>\n      <td>15619</td>\n      <td>5392</td>\n      <td>12968</td>\n      <td>1</td>\n    </tr>\n    <tr>\n      <th>2015-02-08</th>\n      <td>13146</td>\n      <td>95657</td>\n      <td>3519</td>\n      <td>21583</td>\n      <td>5829</td>\n      <td>13364</td>\n      <td>1</td>\n    </tr>\n    <tr>\n      <th>2015-02-09</th>\n      <td>13016</td>\n      <td>102914</td>\n      <td>3804</td>\n      <td>23556</td>\n      <td>6018</td>\n      <td>13163</td>\n      <td>1</td>\n    </tr>\n    <tr>\n      <th>2015-02-10</th>\n      <td>12968</td>\n      <td>94237</td>\n      <td>4099</td>\n      <td>21061</td>\n      <td>5917</td>\n      <td>14756</td>\n      <td>1</td>\n    </tr>\n    <tr>\n      <th>2015-02-11</th>\n      <td>13364</td>\n      <td>98269</td>\n      <td>4247</td>\n      <td>21342</td>\n      <td>5308</td>\n      <td>11080</td>\n      <td>0</td>\n    </tr>\n    <tr>\n      <th>2015-02-12</th>\n      <td>13163</td>\n      <td>102288</td>\n      <td>3992</td>\n      <td>23767</td>\n      <td>5974</td>\n      <td>11298</td>\n      <td>0</td>\n    </tr>\n    <tr>\n      <th>2015-02-13</th>\n      <td>14756</td>\n      <td>103255</td>\n      <td>3940</td>\n      <td>25759</td>\n      <td>6268</td>\n      <td>14343</td>\n      <td>0</td>\n    </tr>\n  </tbody>\n</table>\n</div>"
     },
     "metadata": {},
     "execution_count": 36
    }
   ],
   "source": [
    "validation_main_df"
   ]
  },
  {
   "cell_type": "code",
   "execution_count": 31,
   "metadata": {},
   "outputs": [
    {
     "output_type": "stream",
     "name": "stdout",
     "text": [
      "train data: 0 validation: 42\nDont buys: 0, buys: 0\nVALIDATION Dont buys: 21, buys: 21\n"
     ]
    }
   ],
   "source": [
    "print(f\"train data: {len(train_x)} validation: {len(validation_x)}\")\n",
    "print(f\"Dont buys: {train_y.count(0)}, buys: {train_y.count(1)}\")\n",
    "print(f\"VALIDATION Dont buys: {validation_y.count(0)}, buys: {validation_y.count(1)}\")"
   ]
  },
  {
   "cell_type": "markdown",
   "metadata": {},
   "source": [
    "## <div style=\"direction:rtl;text-align:right;font-family:B Lotus, B Nazanin, Tahoma\">منبع:</div>\n",
    "\n",
    "https://becominghuman.ai/recurrent-neural-networks-rnn-deep-learning-w-python-tensorflow-keras-p-7-c21bc374d4dc"
   ]
  },
  {
   "source": [
    "Cryptocurrency-predicting RNN Model"
   ],
   "cell_type": "markdown",
   "metadata": {}
  },
  {
   "cell_type": "code",
   "execution_count": 22,
   "metadata": {},
   "outputs": [],
   "source": [
    "import time\n",
    "\n",
    "import tensorflow as tf\n",
    "from tensorflow.keras.models import Sequential\n",
    "from tensorflow.keras.layers import Dense, Dropout, LSTM, BatchNormalization\n",
    "\n",
    "EPOCHS = 10  # how many passes through our data\n",
    "BATCH_SIZE = 64  # how many batches? Try smaller batch if you're getting OOM (out of memory) errors.\n"
   ]
  },
  {
   "cell_type": "code",
   "execution_count": 23,
   "metadata": {},
   "outputs": [],
   "source": [
    "model = Sequential()\n",
    "model.add(LSTM(128, input_shape=(train_x.shape[1:]), return_sequences=True))\n",
    "model.add(Dropout(0.2))\n",
    "model.add(BatchNormalization())  #normalizes activation outputs, same reason you want to normalize your input data.\n",
    "\n",
    "model.add(LSTM(128, return_sequences=True))\n",
    "model.add(Dropout(0.1))\n",
    "model.add(BatchNormalization()) # optional\n",
    "\n",
    "model.add(LSTM(128))\n",
    "model.add(Dropout(0.2))\n",
    "model.add(BatchNormalization()) # optional\n",
    "\n",
    "model.add(Dense(32, activation='relu'))\n",
    "model.add(Dropout(0.2))\n",
    "\n",
    "model.add(Dense(2, activation='softmax'))  # softmax gets OneHot \n",
    "# During these 60 time steps they will not return output except the last one\n",
    "# ------------------v---------------------\n",
    "#model.add(Dense(2, activation='softmax'))\n",
    "# OR\n",
    "#model.add(Dense(1, activation='sigmoid'))"
   ]
  },
  {
   "cell_type": "code",
   "execution_count": 25,
   "metadata": {},
   "outputs": [],
   "source": [
    "opt = tf.keras.optimizers.Adam(lr=0.001, decay=1e-6)\n",
    "\n",
    "# Compile model\n",
    "model.compile(\n",
    "    loss='sparse_categorical_crossentropy', # instead of OneHot multi-labled class, it will chenge labale to OneHot\n",
    "    optimizer=opt,\n",
    "    metrics=['accuracy']\n",
    ")"
   ]
  },
  {
   "cell_type": "code",
   "execution_count": 26,
   "metadata": {},
   "outputs": [
    {
     "output_type": "stream",
     "name": "stdout",
     "text": [
      "Epoch 1/10\n",
      "2/2 [==============================] - 2s 985ms/step - loss: 0.9568 - accuracy: 0.5119 - val_loss: 0.6922 - val_accuracy: 0.5909\n",
      "Epoch 2/10\n",
      "2/2 [==============================] - 0s 211ms/step - loss: 0.8072 - accuracy: 0.6071 - val_loss: 0.6920 - val_accuracy: 0.5568\n",
      "Epoch 3/10\n",
      "2/2 [==============================] - 0s 207ms/step - loss: 0.7279 - accuracy: 0.7024 - val_loss: 0.6924 - val_accuracy: 0.5000\n",
      "Epoch 4/10\n",
      "2/2 [==============================] - 0s 224ms/step - loss: 0.5222 - accuracy: 0.6905 - val_loss: 0.6925 - val_accuracy: 0.5000\n",
      "Epoch 5/10\n",
      "2/2 [==============================] - 0s 207ms/step - loss: 0.5188 - accuracy: 0.6905 - val_loss: 0.6925 - val_accuracy: 0.5000\n",
      "Epoch 6/10\n",
      "2/2 [==============================] - 0s 215ms/step - loss: 0.5902 - accuracy: 0.7857 - val_loss: 0.6927 - val_accuracy: 0.5000\n",
      "Epoch 7/10\n",
      "2/2 [==============================] - 0s 208ms/step - loss: 0.4128 - accuracy: 0.8214 - val_loss: 0.6928 - val_accuracy: 0.4545\n",
      "Epoch 8/10\n",
      "2/2 [==============================] - 0s 206ms/step - loss: 0.4598 - accuracy: 0.8214 - val_loss: 0.6929 - val_accuracy: 0.5455\n",
      "Epoch 9/10\n",
      "2/2 [==============================] - 0s 204ms/step - loss: 0.4398 - accuracy: 0.8095 - val_loss: 0.6928 - val_accuracy: 0.5341\n",
      "Epoch 10/10\n",
      "2/2 [==============================] - 0s 206ms/step - loss: 0.4062 - accuracy: 0.8095 - val_loss: 0.6929 - val_accuracy: 0.5114\n"
     ]
    }
   ],
   "source": [
    "# Train model\n",
    "history = model.fit(\n",
    "    train_x, np.array(train_y),\n",
    "    batch_size=BATCH_SIZE,\n",
    "    epochs=EPOCHS,\n",
    "    validation_data=(validation_x, np.array(validation_y)))"
   ]
  },
  {
   "cell_type": "code",
   "execution_count": 27,
   "metadata": {},
   "outputs": [
    {
     "output_type": "stream",
     "name": "stdout",
     "text": [
      "Test loss: 0.6928997039794922\nTest accuracy: 0.5113636255264282\n"
     ]
    }
   ],
   "source": [
    "# Score model\n",
    "score = model.evaluate(validation_x, np.array(validation_y), verbose=0)\n",
    "print('Test loss:', score[0])\n",
    "print('Test accuracy:', score[1])"
   ]
  },
  {
   "cell_type": "code",
   "execution_count": null,
   "metadata": {},
   "outputs": [],
   "source": []
  }
 ],
 "metadata": {
  "kernelspec": {
   "name": "python37764bitf4772697a8704c65afe45ced15f8c6ff",
   "display_name": "Python 3.7.7 64-bit"
  },
  "language_info": {
   "codemirror_mode": {
    "name": "ipython",
    "version": 3
   },
   "file_extension": ".py",
   "mimetype": "text/x-python",
   "name": "python",
   "nbconvert_exporter": "python",
   "pygments_lexer": "ipython3",
   "version": "3.7.7-final"
  }
 },
 "nbformat": 4,
 "nbformat_minor": 2
}