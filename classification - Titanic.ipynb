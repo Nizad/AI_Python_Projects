{
 "cells": [
  {
   "cell_type": "markdown",
   "metadata": {},
   "source": [
    "# <div style=\"text-align:center\">Classification Algorithms and Evaluation Metrics</div>"
   ]
  },
  {
   "cell_type": "code",
   "execution_count": null,
   "metadata": {},
   "outputs": [],
   "source": [
    "import matplotlib.pyplot as plt\n",
    "# زیر پکیج های سایکیت لرن هستند\n",
    "# یسری از دیتاست های معروف در سایکیت لرن در ساب پکیج هستند\n",
    "from sklearn import datasets, svm, metrics\n",
    "from sklearn.ensemble.forest import RandomForestClassifier\n",
    "from sklearn.neighbors.classification import KNeighborsClassifier\n",
    "from sklearn.naive_bayes import MultinomialNB, GaussianNB, BernoulliNB\n",
    "from sklearn.linear_model.stochastic_gradient import SGDClassifier\n",
    "from sklearn.feature_selection import chi2\n",
    "from sklearn.feature_selection.univariate_selection import SelectPercentile, SelectKBest\n",
    "import numpy as np"
   ]
  },
  {
   "cell_type": "code",
   "execution_count": null,
   "metadata": {},
   "outputs": [],
   "source": [
    "# دیتاست mnist را در خودش لود میکند\n",
    "digits_dataset = datasets.load_digits()\n",
    "# zip => return a tuple : matrix or list\n",
    "images_and_labels = list(zip(digits_dataset.images, digits_dataset.target))\n",
    "images_and_labels"
   ]
  },
  {
   "cell_type": "code",
   "execution_count": null,
   "metadata": {},
   "outputs": [],
   "source": [
    "np.shape(digits_dataset.images)"
   ]
  },
  {
   "cell_type": "code",
   "execution_count": null,
   "metadata": {},
   "outputs": [],
   "source": [
    "for index, (image, label) in enumerate(images_and_labels[:4]):\n",
    "    plt.subplot(2, 4, index + 1)\n",
    "    plt.axis('off')\n",
    "    plt.imshow(image, cmap=plt.cm.gray_r, interpolation='nearest')\n",
    "    plt.title('Training: %i' % label)"
   ]
  },
  {
   "cell_type": "code",
   "execution_count": null,
   "metadata": {},
   "outputs": [],
   "source": [
    "n_samples = len(digits_dataset.images)\n",
    "n_samples"
   ]
  },
  {
   "cell_type": "code",
   "execution_count": null,
   "metadata": {},
   "outputs": [],
   "source": [
    "digits_dataset.images"
   ]
  },
  {
   "cell_type": "code",
   "execution_count": null,
   "metadata": {},
   "outputs": [],
   "source": [
    "# transform image dataset into 1797 x 1 matrix\n",
    "data = digits_dataset.images.reshape((n_samples, -1))\n",
    "data"
   ]
  },
  {
   "cell_type": "code",
   "execution_count": null,
   "metadata": {},
   "outputs": [],
   "source": [
    "# support vector classifier (SVC)\n",
    "svm_clf = svm.SVC(gamma=0.001)\n",
    "# Learning Process\n",
    "svm_clf.fit(data[:n_samples // 2], digits_dataset.target[:n_samples // 2])\n"
   ]
  },
  {
   "cell_type": "code",
   "execution_count": null,
   "metadata": {
    "tags": []
   },
   "outputs": [],
   "source": [
    "expected = digits_dataset.target[n_samples // 2:]\n",
    "predicted = svm_clf.predict(data[n_samples // 2:])\n",
    "print(metrics.classification_report(expected, predicted))\n",
    "\n"
   ]
  },
  {
   "cell_type": "code",
   "execution_count": null,
   "metadata": {
    "tags": []
   },
   "outputs": [],
   "source": [
    "print(metrics.confusion_matrix(expected, predicted))"
   ]
  },
  {
   "cell_type": "code",
   "execution_count": null,
   "metadata": {},
   "outputs": [],
   "source": [
    "svm2_clf = svm.SVC(kernel='linear')\n",
    "svm2_clf.fit(data[:n_samples // 2], digits_dataset.target[:n_samples // 2])\n",
    "expected = digits_dataset.target[n_samples // 2:]\n",
    "predicted = svm2_clf.predict(data[n_samples // 2:])\n",
    "print(metrics.classification_report(expected, predicted))"
   ]
  },
  {
   "cell_type": "code",
   "execution_count": null,
   "metadata": {},
   "outputs": [],
   "source": [
    "svm3_clf = svm.SVC(gamma=0.001, C=10)\n",
    "svm3_clf.fit(data[:n_samples // 2], digits_dataset.target[:n_samples // 2])\n",
    "expected = digits_dataset.target[n_samples // 2:]\n",
    "predicted = svm3_clf.predict(data[n_samples // 2:])\n",
    "print(metrics.classification_report(expected, predicted))"
   ]
  },
  {
   "cell_type": "code",
   "execution_count": null,
   "metadata": {},
   "outputs": [],
   "source": [
    "rf_clf = RandomForestClassifier()\n",
    "rf_clf.fit(data[:n_samples // 2], digits_dataset.target[:n_samples // 2])\n",
    "expected = digits_dataset.target[n_samples // 2:]\n",
    "predicted = rf_clf.predict(data[n_samples // 2:])\n",
    "print(metrics.classification_report(expected, predicted))"
   ]
  },
  {
   "cell_type": "code",
   "execution_count": null,
   "metadata": {},
   "outputs": [],
   "source": [
    "rf_clf = RandomForestClassifier()\n",
    "rf_clf.fit(data[:n_samples // 2], digits_dataset.target[:n_samples // 2])\n",
    "expected = digits_dataset.target[n_samples // 2:]\n",
    "predicted = rf_clf.predict(data[n_samples // 2:])\n",
    "print(metrics.classification_report(expected, predicted))"
   ]
  },
  {
   "cell_type": "code",
   "execution_count": null,
   "metadata": {},
   "outputs": [],
   "source": [
    "rf2_clf = RandomForestClassifier(n_estimators=1000)\n",
    "rf2_clf.fit(data[:n_samples // 2], digits_dataset.target[:n_samples // 2])\n",
    "expected = digits_dataset.target[n_samples // 2:]\n",
    "predicted = rf2_clf.predict(data[n_samples // 2:])\n",
    "print(metrics.classification_report(expected, predicted))"
   ]
  },
  {
   "cell_type": "code",
   "execution_count": null,
   "metadata": {},
   "outputs": [],
   "source": [
    "rf3_clf = RandomForestClassifier(n_jobs=-1, n_estimators=1000)\n",
    "rf3_clf.fit(data[:n_samples // 2], digits_dataset.target[:n_samples // 2])\n",
    "expected = digits_dataset.target[n_samples // 2:]\n",
    "predicted = rf3_clf.predict(data[n_samples // 2:])\n",
    "print(metrics.classification_report(expected, predicted))"
   ]
  },
  {
   "cell_type": "code",
   "execution_count": null,
   "metadata": {},
   "outputs": [],
   "source": [
    "knn_clf = KNeighborsClassifier()\n",
    "knn_clf.fit(data[:n_samples // 2], digits_dataset.target[:n_samples // 2])\n",
    "expected = digits_dataset.target[n_samples // 2:]\n",
    "predicted = knn_clf.predict(data[n_samples // 2:])\n",
    "print(metrics.classification_report(expected, predicted))"
   ]
  },
  {
   "cell_type": "code",
   "execution_count": null,
   "metadata": {},
   "outputs": [],
   "source": [
    "knn2_clf = KNeighborsClassifier(n_neighbors=100, weights='distance')\n",
    "knn2_clf.fit(data[:n_samples // 2], digits_dataset.target[:n_samples // 2])\n",
    "expected = digits_dataset.target[n_samples // 2:]\n",
    "predicted = knn2_clf.predict(data[n_samples // 2:])\n",
    "print(metrics.classification_report(expected, predicted))"
   ]
  },
  {
   "cell_type": "code",
   "execution_count": null,
   "metadata": {},
   "outputs": [],
   "source": [
    "knn2_clf = KNeighborsClassifier(algorithm='ball_tree')\n",
    "knn2_clf.fit(data[:n_samples // 2], digits_dataset.target[:n_samples // 2])\n",
    "expected = digits_dataset.target[n_samples // 2:]\n",
    "predicted = knn2_clf.predict(data[n_samples // 2:])\n",
    "print(metrics.classification_report(expected, predicted))"
   ]
  },
  {
   "cell_type": "code",
   "execution_count": null,
   "metadata": {},
   "outputs": [],
   "source": [
    "mnb_clf = MultinomialNB()\n",
    "mnb_clf.fit(data[:n_samples // 2], digits_dataset.target[:n_samples // 2])\n",
    "expected = digits_dataset.target[n_samples // 2:]\n",
    "predicted = mnb_clf.predict(data[n_samples // 2:])\n",
    "print(metrics.classification_report(expected, predicted))"
   ]
  },
  {
   "cell_type": "code",
   "execution_count": null,
   "metadata": {},
   "outputs": [],
   "source": [
    "mnb2_clf = MultinomialNB(alpha=0)\n",
    "mnb2_clf.fit(data[:n_samples // 2], digits_dataset.target[:n_samples // 2])\n",
    "expected = digits_dataset.target[n_samples // 2:]\n",
    "predicted = mnb2_clf.predict(data[n_samples // 2:])\n",
    "print(metrics.classification_report(expected, predicted))"
   ]
  },
  {
   "cell_type": "code",
   "execution_count": null,
   "metadata": {},
   "outputs": [],
   "source": [
    "gnb_clf = GaussianNB()\n",
    "gnb_clf.fit(data[:n_samples // 2], digits_dataset.target[:n_samples // 2])\n",
    "expected = digits_dataset.target[n_samples // 2:]\n",
    "predicted = gnb_clf.predict(data[n_samples // 2:])\n",
    "print(metrics.classification_report(expected, predicted))"
   ]
  },
  {
   "cell_type": "code",
   "execution_count": null,
   "metadata": {},
   "outputs": [],
   "source": [
    "bnb_clf = BernoulliNB()\n",
    "bnb_clf.fit(data[:n_samples // 2], digits_dataset.target[:n_samples // 2])\n",
    "expected = digits_dataset.target[n_samples // 2:]\n",
    "predicted = bnb_clf.predict(data[n_samples // 2:])\n",
    "print(metrics.classification_report(expected, predicted))"
   ]
  },
  {
   "cell_type": "code",
   "execution_count": null,
   "metadata": {},
   "outputs": [],
   "source": [
    "sgd_clf = SGDClassifier()\n",
    "sgd_clf.fit(data[:n_samples // 2], digits_dataset.target[:n_samples // 2])\n",
    "expected = digits_dataset.target[n_samples // 2:]\n",
    "predicted = sgd_clf.predict(data[n_samples // 2:])\n",
    "print(metrics.classification_report(expected, predicted))"
   ]
  },
  {
   "cell_type": "code",
   "execution_count": null,
   "metadata": {},
   "outputs": [],
   "source": [
    "sgd2_clf = SGDClassifier(alpha=2)\n",
    "sgd2_clf.fit(data[:n_samples // 2], digits_dataset.target[:n_samples // 2])\n",
    "expected = digits_dataset.target[n_samples // 2:]\n",
    "predicted = sgd2_clf.predict(data[n_samples // 2:])\n",
    "print(metrics.classification_report(expected, predicted))"
   ]
  },
  {
   "cell_type": "code",
   "execution_count": null,
   "metadata": {},
   "outputs": [],
   "source": [
    "ch2 = SelectPercentile(chi2, 80)\n",
    "X_train = ch2.fit_transform(data, digits_dataset.target)\n",
    "print(np.shape(data))\n",
    "print(np.shape(X_train))"
   ]
  },
  {
   "cell_type": "code",
   "execution_count": null,
   "metadata": {},
   "outputs": [],
   "source": [
    "ch2.scores_"
   ]
  },
  {
   "cell_type": "code",
   "execution_count": null,
   "metadata": {},
   "outputs": [],
   "source": [
    "sgd3_clf = SGDClassifier(alpha=2)\n",
    "sgd3_clf.fit(X_train[:n_samples // 2], digits_dataset.target[:n_samples // 2])\n",
    "expected = digits_dataset.target[n_samples // 2:]\n",
    "predicted = sgd3_clf.predict(X_train[n_samples // 2:])\n",
    "print(metrics.classification_report(expected, predicted))"
   ]
  }
 ],
 "metadata": {
  "kernelspec": {
   "display_name": "Python 3.7.7 64-bit",
   "language": "python",
   "name": "python_defaultSpec_1595095395709"
  },
  "language_info": {
   "codemirror_mode": {
    "name": "ipython",
    "version": 3
   },
   "file_extension": ".py",
   "mimetype": "text/x-python",
   "name": "python",
   "nbconvert_exporter": "python",
   "pygments_lexer": "ipython3",
   "version": "3.7.6"
  }
 },
 "nbformat": 4,
 "nbformat_minor": 2
}