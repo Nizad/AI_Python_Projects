{
 "cells": [
  {
   "cell_type": "code",
   "execution_count": null,
   "metadata": {},
   "outputs": [],
   "source": [
    "import pandas as pd\n",
    "import numpy as np\n",
    "from sklearn import svm, metrics\n",
    "from sklearn.model_selection import train_test_split"
   ]
  },
  {
   "cell_type": "code",
   "execution_count": null,
   "metadata": {},
   "outputs": [],
   "source": [
    "Frogs_dataset = pd.read_csv('E:\\\\Data Mining with Python\\\\Dataset\\\\Frogs_MFCCs.csv')\n"
   ]
  },
  {
   "cell_type": "code",
   "execution_count": 24,
   "metadata": {
    "tags": []
   },
   "outputs": [
    {
     "output_type": "execute_result",
     "data": {
      "text/plain": "Leptodactylidae    4420\nHylidae            2165\nDendrobatidae       542\nBufonidae            68\nName: Family, dtype: int64"
     },
     "metadata": {},
     "execution_count": 24
    }
   ],
   "source": [
    "# Frogs_dataset.head()\n",
    "\n",
    "# Frogs_dataset.info()\n",
    "# Frogs_dataset.isnull().sum()\n",
    "# Frogs_dataset.columns\n",
    "# # np.shape(Frogs_dataset)\n",
    "\n",
    "\n",
    "# Frogs_dataset.Family.value_counts()\n",
    "# Frogs_dataset.Genus.value_counts()\n",
    "# Frogs_dataset.Species.value_counts()"
   ]
  },
  {
   "cell_type": "code",
   "execution_count": null,
   "metadata": {},
   "outputs": [],
   "source": [
    "# import seaborn as sns\n",
    "# import matplotlib.pyplot as plt\n",
    "# sns.countplot(y=\"Family\", data=Frogs_dataset , hue=\"Family\")\n",
    "# plt.show()\n",
    "\n",
    "# sns.countplot(y='Genus', data=Frogs_dataset)\n",
    "# plt.show()\n",
    "\n",
    "# sns.countplot(y='Species', data=Frogs_dataset)\n",
    "# plt.show()"
   ]
  },
  {
   "cell_type": "code",
   "execution_count": 27,
   "metadata": {},
   "outputs": [
    {
     "output_type": "execute_result",
     "data": {
      "text/plain": "(7195, 26)"
     },
     "metadata": {},
     "execution_count": 27
    }
   ],
   "source": [
    "Frogs_dataset.shape"
   ]
  },
  {
   "cell_type": "code",
   "execution_count": 17,
   "metadata": {},
   "outputs": [],
   "source": [
    "X = Frogs_dataset.iloc[:,:-4]\n",
    "# y = Frogs_dataset['Family'].values\n",
    "y = Frogs_dataset.iloc[: , -4:-1]"
   ]
  },
  {
   "cell_type": "code",
   "execution_count": null,
   "metadata": {},
   "outputs": [],
   "source": [
    "# from sklearn.preprocessing import StandardScaler\n",
    "\n",
    "# scaler_X = StandardScaler()\n",
    "# X = scaler_X.fit_transform(X)\n",
    "# X"
   ]
  },
  {
   "cell_type": "code",
   "execution_count": 22,
   "metadata": {},
   "outputs": [],
   "source": [
    "from sklearn.preprocessing import LabelEncoder\n",
    "\n",
    "labelencoder_y1 = LabelEncoder()\n",
    "labelencoder_y2 = LabelEncoder()\n",
    "labelencoder_y3 = LabelEncoder()\n",
    "\n",
    "labelencoder_y1 = labelencoder_y1.fit(y['Family'])\n",
    "labelencoder_y2 = labelencoder_y2.fit(y['Genus'])\n",
    "labelencoder_y3 = labelencoder_y3.fit(y['Species'])\n",
    "\n",
    "y['Family'] = labelencoder_y1.transform(y['Family'])\n",
    "y['Genus'] = labelencoder_y2.transform(y['Genus'])\n",
    "y['Species'] = labelencoder_y3.transform(y['Species'])"
   ]
  },
  {
   "cell_type": "code",
   "execution_count": 25,
   "metadata": {},
   "outputs": [],
   "source": [
    "X_train, X_test, y_train, y_test = train_test_split(X, y, test_size=0.3, random_state=0)"
   ]
  },
  {
   "cell_type": "code",
   "execution_count": 36,
   "metadata": {
    "tags": []
   },
   "outputs": [
    {
     "output_type": "stream",
     "name": "stdout",
     "text": "mean of Scores for Class 1: 0.973789406418631\nmean of Scores for Class 2: 0.9741846539808765\nmean of Scores for Class 3: 0.9777596326801097\n"
    }
   ],
   "source": [
    "# ii:\n",
    "\n",
    "# support vector classifier (SVC)\n",
    "# SVC and NuSVC implement the “one-versus-one” approach for multi-class classification.\n",
    "# rbf => Gaussian Kernel\n",
    "\n",
    "# decision_function_shape = \"ovr\"\n",
    "# decision_function_shape='ovo'\n",
    "\n",
    "# Proper choice of C and gamma is critical to the SVM’s performance. One is advised to use sklearn.model_selection.GridSearchCV with C and gamma spaced exponentially far apart to choose good values.\n",
    "\n",
    "\n",
    "from sklearn.model_selection import cross_val_score\n",
    "\n",
    "model = svm.SVC(kernel= 'rbf')\n",
    "scores_1 = cross_val_score(model, X=X_train , y=y_train.iloc[:,0] , cv=10 )\n",
    "scores_2 = cross_val_score(model, X=X_train , y=y_train.iloc[:,1] , cv=10 )\n",
    "scores_3 = cross_val_score(model, X=X_train , y=y_train.iloc[:,2] , cv=10 )\n",
    "\n",
    "\n",
    "print('mean of Scores for Class 1:',scores_1.mean())\n",
    "print('mean of Scores for Class 2:',scores_2.mean())\n",
    "print('mean of Scores for Class 3:',scores_3.mean())\n"
   ]
  },
  {
   "cell_type": "code",
   "execution_count": 62,
   "metadata": {
    "tags": []
   },
   "outputs": [
    {
     "output_type": "stream",
     "name": "stdout",
     "text": "Best parameters for class 1(Family): {'C': 100, 'decision_function_shape': 'ovr', 'gamma': 0.6, 'kernel': 'rbf'}\nBest Scores for class 1(Family): 0.990864337782827\nBest parameters for class 2(Genus): {'C': 100, 'decision_function_shape': 'ovr', 'gamma': 0.7, 'kernel': 'rbf'}\nBest Scores for class 2(Genus): 0.9910631449398846\nBest parameters for class 3(Species): {'C': 1000, 'decision_function_shape': 'ovr', 'kernel': 'rbf'}\nBest Scores for class 3(Species): 0.9892762472782355\n"
    }
   ],
   "source": [
    "from sklearn.model_selection import GridSearchCV\n",
    "\n",
    "model = svm.SVC()\n",
    "parameters = [\n",
    "    {'kernel': ['rbf'], 'gamma': [.1,.2,.3,.4,.5,.6,.7],'C': [1, 10, 100, 1000] ,'decision_function_shape': ('ovr', 'ovo')},\n",
    "    {'kernel': ['rbf'], 'C': [1, 10, 100, 1000],'decision_function_shape' : ('ovr', 'ovo')}]\n",
    "\n",
    "\n",
    "svm_clf = GridSearchCV(estimator=model,\n",
    "                     param_grid=parameters,\n",
    "                     scoring='accuracy',\n",
    "                     cv=10,\n",
    "                     n_jobs=-1)\n",
    "\n",
    "svm_clf.fit(X_train, y_train.iloc[:,0])\n",
    "print('Best parameters for class 1(Family):',svm_clf.best_params_)\n",
    "print('Best Scores for class 1(Family):',svm_clf.best_score_)\n",
    "\n",
    "svm_clf.fit(X_train, y_train.iloc[:,1])\n",
    "print('Best parameters for class 2(Genus):',svm_clf.best_params_)\n",
    "print('Best Scores for class 2(Genus):',svm_clf.best_score_)\n",
    "\n",
    "svm_clf.fit(X_train, y_train.iloc[:,2])\n",
    "print('Best parameters for class 3(Species):',svm_clf.best_params_)\n",
    "print('Best Scores for class 3(Species):',svm_clf.best_score_)\n",
    "\n",
    "\n",
    "# expected = y_test.iloc[:,2]\n",
    "# predicted = svm_clf.predict(X_test)\n",
    "# print(metrics.classification_report(expected, predicted))\n",
    "\n",
    "# وقتی حساسیت زیادی میخواهیم ایجاد کنیم\n",
    "#  recall را زیاد میکنیم\n",
    "# Recall(R) = TP / (TP+FN)  => FN~0 => Recall = TP/TP = 1\n",
    "# Precision(P) = TP/(TP+FP)\n",
    "# f1-score or f-measure = (2*P*R) / (P+R)  => both R and P are involved in the measure\n",
    "# f-measure keeps the balance between R and P\n",
    "\n",
    "# if P is 100% we don't have any false prediction\n"
   ]
  },
  {
   "cell_type": "code",
   "execution_count": 38,
   "metadata": {
    "tags": []
   },
   "outputs": [
    {
     "output_type": "stream",
     "name": "stdout",
     "text": "Hamming loss for Class 1 (Family): 0.006947660954145438\nExact Match for Class 1 (Family): 0.9930523390458545\nClassification Report:\n              precision    recall  f1-score   support\n\n           0       1.00      0.95      0.97        20\n           1       1.00      0.99      1.00       155\n           2       0.99      0.99      0.99       657\n           3       0.99      0.99      0.99      1327\n\n    accuracy                           0.99      2159\n   macro avg       1.00      0.98      0.99      2159\nweighted avg       0.99      0.99      0.99      2159\n\nConfusion Matrix:\n[[  19    0    0    1]\n [   0  154    1    0]\n [   0    0  651    6]\n [   0    0    7 1320]]\n"
    }
   ],
   "source": [
    "# Classification for Label 'Family'\n",
    "from sklearn.metrics import accuracy_score,hamming_loss\n",
    "\n",
    "# best parameters for class 1: Family => {'C': 100, 'decision_function_shape': 'ovr', 'gamma': 0.6, 'kernel': 'rbf'}\n",
    "svm_clf = svm.SVC(kernel='rbf', gamma=0.6, C=100, decision_function_shape='ovr')\n",
    "svm_clf = svm_clf.fit(X_train,y_train.iloc[:,0])\n",
    "predicted = svm_clf.predict(X_test)\n",
    "expected = y_test.iloc[:,0]\n",
    "\n",
    "hamming_loss_1 = hamming_loss(y_test.iloc[:,0],predicted)\n",
    "exact_match_1 = accuracy_score(y_test.iloc[:,0],predicted)\n",
    "\n",
    "print(\"Hamming loss for Class 1 (Family):\",hamming_loss_1)\n",
    "print(\"Exact Match for Class 1 (Family):\",exact_match_1)\n",
    "\n",
    "print('Classification Report:')\n",
    "print(metrics.classification_report(expected, predicted))\n",
    "print('Confusion Matrix:')\n",
    "print(metrics.confusion_matrix(expected, predicted))\n"
   ]
  },
  {
   "cell_type": "code",
   "execution_count": 39,
   "metadata": {
    "tags": []
   },
   "outputs": [
    {
     "output_type": "stream",
     "name": "stdout",
     "text": "Hamming loss for Class 2 (Genus): 0.01157943492357573\nExact Match for Class 2 (Genus): 0.9884205650764243\nClassification Report:\n              precision    recall  f1-score   support\n\n           0       0.99      1.00      0.99      1240\n           1       1.00      0.99      1.00       155\n           2       0.94      0.97      0.95        96\n           3       0.99      0.98      0.99       486\n           4       0.99      0.99      0.99        87\n           5       0.89      0.86      0.87        28\n           6       0.95      0.90      0.92        20\n           7       0.98      0.98      0.98        47\n\n    accuracy                           0.99      2159\n   macro avg       0.97      0.96      0.96      2159\nweighted avg       0.99      0.99      0.99      2159\n\nConfusion Matrix:\n[[1235    0    4    0    0    0    0    1]\n [   0  154    1    0    0    0    0    0]\n [   3    0   93    0    0    0    0    0]\n [   3    0    1  478    1    3    0    0]\n [   0    0    0    1   86    0    0    0]\n [   1    0    0    3    0   24    0    0]\n [   2    0    0    0    0    0   18    0]\n [   0    0    0    0    0    0    1   46]]\n"
    }
   ],
   "source": [
    "# Classification for Label 'Genus'\n",
    "\n",
    "# best parameters for class 2: 'Genus' =>{'C': 100, 'decision_function_shape': 'ovr', 'gamma': 0.7, 'kernel': 'rbf'}\n",
    "svm_clf = svm.SVC(kernel='rbf', gamma=0.7, C=100, decision_function_shape='ovr')\n",
    "svm_clf = svm_clf.fit(X_train,y_train.iloc[:,1])\n",
    "\n",
    "expected = y_test.iloc[:,1]\n",
    "predicted = svm_clf.predict(X_test)\n",
    "\n",
    "hamming_loss_2 = hamming_loss(y_test.iloc[:,1],predicted)\n",
    "exact_match_2 = accuracy_score(y_test.iloc[:,1],predicted)\n",
    "\n",
    "print(\"Hamming loss for Class 2 (Genus):\",hamming_loss_2)\n",
    "print(\"Exact Match for Class 2 (Genus):\",exact_match_2)\n",
    "\n",
    "print('Classification Report:')\n",
    "print(metrics.classification_report(expected, predicted))\n",
    "print('Confusion Matrix:')\n",
    "print(metrics.confusion_matrix(expected, predicted))"
   ]
  },
  {
   "cell_type": "code",
   "execution_count": 41,
   "metadata": {
    "tags": []
   },
   "outputs": [
    {
     "output_type": "stream",
     "name": "stdout",
     "text": "Hamming loss for label 3 (Species): 0.012505789717461788\nExact Match for label 3 (Species): 0.9874942102825383\nClassification Report:\n              precision    recall  f1-score   support\n\n           0       0.99      0.97      0.98       211\n           1       1.00      1.00      1.00      1029\n           2       1.00      0.99      1.00       155\n           3       0.94      0.97      0.95        96\n           4       0.96      0.99      0.98       151\n           5       0.99      0.98      0.99       335\n           6       0.99      0.99      0.99        87\n           7       0.89      0.86      0.87        28\n           8       0.95      0.90      0.92        20\n           9       0.98      0.98      0.98        47\n\n    accuracy                           0.99      2159\n   macro avg       0.97      0.96      0.97      2159\nweighted avg       0.99      0.99      0.99      2159\n\nConfusion Matrix:\n[[ 204    0    0    4    1    1    0    0    0    1]\n [   0 1029    0    0    0    0    0    0    0    0]\n [   0    0  154    1    0    0    0    0    0    0]\n [   1    2    0   93    0    0    0    0    0    0]\n [   0    0    0    0  150    0    0    1    0    0]\n [   0    2    0    1    1  328    1    2    0    0]\n [   0    0    0    0    1    0   86    0    0    0]\n [   1    0    0    0    2    1    0   24    0    0]\n [   0    1    0    0    1    0    0    0   18    0]\n [   0    0    0    0    0    0    0    0    1   46]]\n"
    }
   ],
   "source": [
    "# Classification for Label 'Species'\n",
    "# best parameters for class 3: 'Species' =>{'C': 1000, 'decision_function_shape': 'ovr', 'kernel': 'rbf'}\n",
    "svm_clf = svm.SVC(kernel='rbf', C=1000, decision_function_shape='ovr')\n",
    "svm_clf = svm_clf.fit(X_train,y_train.iloc[:,2])\n",
    "\n",
    "expected = y_test.iloc[:,2]\n",
    "predicted = svm_clf.predict(X_test)\n",
    "\n",
    "hamming_loss_3 = hamming_loss(y_test.iloc[:,2],predicted)\n",
    "exact_match_3 = accuracy_score(y_test.iloc[:,2],predicted)\n",
    "\n",
    "print(\"Hamming loss for label 3 (Species):\",hamming_loss_3)\n",
    "print(\"Exact Match for label 3 (Species):\",exact_match_3)\n",
    "\n",
    "print('Classification Report:')\n",
    "print(metrics.classification_report(expected, predicted))\n",
    "print('Confusion Matrix:')\n",
    "print(metrics.confusion_matrix(expected, predicted))"
   ]
  },
  {
   "cell_type": "code",
   "execution_count": null,
   "metadata": {},
   "outputs": [],
   "source": [
    "#Part iii\n",
    "\n",
    "from sklearn.svm import LinearSVC\n",
    "\n",
    "\n",
    "model = svm.LinearSVC(penalty='l1',dual=False)\n",
    "scores_1 = cross_val_score(model, X=X_train , y=y_train.iloc[:,0] , cv=10 )\n",
    "scores_2 = cross_val_score(model, X=X_train , y=y_train.iloc[:,1] , cv=10 )\n",
    "scores_3 = cross_val_score(model, X=X_train , y=y_train.iloc[:,2] , cv=10 )\n",
    "\n",
    "print('mean of Scores for Class 1:',scores_1.mean())\n",
    "print('mean of Scores for Class 2:',scores_2.mean())\n",
    "print('mean of Scores for Class 3:',scores_3.mean())"
   ]
  },
  {
   "cell_type": "code",
   "execution_count": 42,
   "metadata": {
    "tags": []
   },
   "outputs": [
    {
     "output_type": "stream",
     "name": "stdout",
     "text": "Best parameter for class 1(Family): {'C': 100.0}\nBest Score for class 1(Family): 0.990864337782827\nBest parameter for class 2(Genus): {'C': 100.0}\nBest Score for class 2(Genus): 0.9900710814478211\nBest parameter for class 3(Species): {'C': 1000.0}\nBest Score for class 3(Species): 0.9892762472782355\n"
    }
   ],
   "source": [
    "#iii : L1-penalized SVM\n",
    "\n",
    "# Finding the best parameters\n",
    "parameters = {'C' : 10. ** np.arange(-4, 4)}\n",
    "\n",
    "svm_clf = GridSearchCV(estimator=model,\n",
    "                     param_grid=parameters,\n",
    "                     scoring='accuracy',\n",
    "                     cv=10,\n",
    "                     n_jobs=-1)\n",
    "\n",
    "svm_clf.fit(X_train, y_train.iloc[:,0])\n",
    "print('Best parameter for class 1(Family):',svm_clf.best_params_)\n",
    "print('Best Score for class 1(Family):',svm_clf.best_score_)\n",
    "\n",
    "svm_clf.fit(X_train, y_train.iloc[:,1])\n",
    "print('Best parameter for class 2(Genus):',svm_clf.best_params_)\n",
    "print('Best Score for class 2(Genus):',svm_clf.best_score_)\n",
    "\n",
    "svm_clf.fit(X_train, y_train.iloc[:,2])\n",
    "print('Best parameter for class 3(Species):',svm_clf.best_params_)\n",
    "print('Best Score for class 3(Species):',svm_clf.best_score_)\n",
    "\n"
   ]
  },
  {
   "cell_type": "code",
   "execution_count": 43,
   "metadata": {
    "tags": []
   },
   "outputs": [
    {
     "output_type": "stream",
     "name": "stdout",
     "text": "Hamming loss for Class 1 (Family): 0.06762389995368226\nExact Match for Class 1 (Family): 0.9323761000463178\nClassification Report:\n              precision    recall  f1-score   support\n\n           0       0.00      0.00      0.00        20\n           1       0.85      0.92      0.89       155\n           2       0.92      0.89      0.91       657\n           3       0.95      0.97      0.96      1327\n\n    accuracy                           0.93      2159\n   macro avg       0.68      0.70      0.69      2159\nweighted avg       0.92      0.93      0.93      2159\n\nConfusion Matrix:\n[[   0    0   18    2]\n [   0  143    8    4]\n [   1    5  588   63]\n [   0   20   25 1282]]\n"
    }
   ],
   "source": [
    "\n",
    "# best parameters for class 1: Family => {'C': 10}\n",
    "svm_clf = svm.LinearSVC(C=100 , penalty='l1',dual=False)\n",
    "svm_clf = svm_clf.fit(X_train,y_train.iloc[:,0])\n",
    "\n",
    "expected = y_test.iloc[:,0]\n",
    "predicted = svm_clf.predict(X_test)\n",
    "\n",
    "hamming_loss_1 = hamming_loss(y_test.iloc[:,0],predicted)\n",
    "exact_match_1 = accuracy_score(y_test.iloc[:,0],predicted)\n",
    "\n",
    "print(\"Hamming loss for Class 1 (Family):\",hamming_loss_1)\n",
    "print(\"Exact Match for Class 1 (Family):\",exact_match_1)\n",
    "\n",
    "print('Classification Report:')\n",
    "print(metrics.classification_report(expected, predicted))\n",
    "print('Confusion Matrix:')\n",
    "print(metrics.confusion_matrix(expected, predicted))"
   ]
  },
  {
   "cell_type": "code",
   "execution_count": null,
   "metadata": {},
   "outputs": [],
   "source": [
    "svm_clf = svm.LinearSVC(C=100 , penalty='l1',dual=False)\n",
    "svm_clf = svm_clf.fit(X_train,y_train.iloc[:,1])\n",
    "\n",
    "expected = y_test.iloc[:,0]\n",
    "predicted = svm_clf.predict(X_test)\n",
    "\n",
    "hamming_loss_2 = hamming_loss(y_test.iloc[:,1],predicted)\n",
    "exact_match_2 = accuracy_score(y_test.iloc[:,1],predicted)\n",
    "\n",
    "print(\"Hamming loss for Class 2 (Genus):\",hamming_loss_2)\n",
    "print(\"Exact Match for Class 2 (Genus):\",exact_match_2)\n",
    "\n",
    "print('Classification Report:')\n",
    "print(metrics.classification_report(expected, predicted))\n",
    "print('Confusion Matrix:')\n",
    "print(metrics.confusion_matrix(expected, predicted))"
   ]
  },
  {
   "cell_type": "code",
   "execution_count": null,
   "metadata": {},
   "outputs": [],
   "source": [
    "svm_clf = svm.LinearSVC(C=1000 , penalty='l1',dual=False)\n",
    "svm_clf = svm_clf.fit(X_train,y_train.iloc[:,2])\n",
    "\n",
    "expected = y_test.iloc[:,0]\n",
    "predicted = svm_clf.predict(X_test)\n",
    "\n",
    "hamming_loss_3 = hamming_loss(y_test.iloc[:,2],predicted)\n",
    "exact_match_3 = accuracy_score(y_test.iloc[:,2],predicted)\n",
    "\n",
    "print(\"Hamming loss for label 3 (Species):\",hamming_loss_3)\n",
    "print(\"Exact Match for label 3 (Species):\",exact_match_3)\n",
    "\n",
    "print('Classification Report:')\n",
    "print(metrics.classification_report(expected, predicted))\n",
    "print('Confusion Matrix:')\n",
    "print(metrics.confusion_matrix(expected, predicted))"
   ]
  },
  {
   "cell_type": "code",
   "execution_count": null,
   "metadata": {
    "tags": []
   },
   "outputs": [],
   "source": [
    "# y_pred= np.concatenate((predicted_1.reshape(-1,1),predicted_2.reshape(-1,1),predicted_3.reshape(-1,1)),axis=1)\n",
    "# y_real= np.concatenate((np.array(y_test.iloc[:,0]).reshape(-1,1),np.array(y_test.iloc[:,1]).reshape(-1,1),np.array(y_test.iloc[:,2]).reshape(-1,1)),axis=1)\n",
    "\n",
    "# HM= np.sum(np.not_equal(y_real, y_pred))/float(y_real.size)\n",
    "# print(\"Overall Hamming loss is\",HM)\n",
    "\n",
    "# val=0\n",
    "# l=len(y_pred)\n",
    "# for i in range(0,l):\n",
    "#     if(predicted_1[i]==y_test.iloc[i,0] and predicted_2[i]==y_test.iloc[i,1] and predicted_3[i]==y_test.iloc[i,2]):\n",
    "#         val=val+1\n",
    "# val=val/l\n",
    "# print(\"Exact Match score is\",val)"
   ]
  },
  {
   "cell_type": "code",
   "execution_count": 49,
   "metadata": {
    "tags": []
   },
   "outputs": [],
   "source": [
    "#iv. SMOTE\n",
    "\n",
    "from imblearn.over_sampling import SMOTE \n",
    "\n",
    "seed = 100\n",
    "k = 5\n",
    "# X_res, y_res = make_imbalance(X1, Y1, sampling_strategy={0: 400, 1: 10, 2: 50 , 3: 100 }, random_state=seed)\n",
    "\n",
    "sm = SMOTE(sampling_strategy='auto', k_neighbors=k, random_state=seed)\n",
    "Xt1,yt1 = sm.fit_resample(X_train,y_train.iloc[:,0])\n",
    "Xt2,yt2 = sm.fit_resample(X_train,y_train.iloc[:,1])\n",
    "Xt3,yt3 = sm.fit_resample(X_train,y_train.iloc[:,2])\n",
    "\n",
    "\n",
    "# model = svm.LinearSVC(penalty='l1',dual=False)\n",
    "# scores_1 = cross_val_score(model, Xt1, yt1, cv=10 )\n",
    "# scores_2 = cross_val_score(model, Xt2, yt2, cv=10 )\n",
    "# scores_3 = cross_val_score(model, Xt3, yt3, cv=10 )\n",
    "\n",
    "# print('mean of Scores for Class 1:',scores_1.mean())\n",
    "# print('mean of Scores for Class 2:',scores_2.mean())\n",
    "# print('mean of Scores for Class 3:',scores_3.mean())"
   ]
  },
  {
   "cell_type": "code",
   "execution_count": 53,
   "metadata": {
    "tags": []
   },
   "outputs": [
    {
     "output_type": "stream",
     "name": "stdout",
     "text": "Classification Report:\n              precision    recall  f1-score   support\n\n           0       0.29      0.90      0.43        20\n           1       0.70      0.98      0.82       155\n           2       0.94      0.86      0.90       657\n           3       0.96      0.93      0.94      1327\n\n    accuracy                           0.91      2159\n   macro avg       0.72      0.92      0.77      2159\nweighted avg       0.93      0.91      0.92      2159\n\nConfusion Matrix:\n[[  18    1    0    1]\n [   0  152    2    1]\n [  24   22  567   44]\n [  21   42   35 1229]]\n"
    }
   ],
   "source": [
    "svm_clf = svm.LinearSVC(penalty='l1',dual=False)\n",
    "svm_clf = svm_clf.fit(Xt1,yt1)\n",
    "\n",
    "expected = y_test.iloc[:,0]\n",
    "predicted = svm_clf.predict(X_test)\n",
    "\n",
    "print('Classification Report:')\n",
    "print(metrics.classification_report(expected, predicted))\n",
    "print('Confusion Matrix:')\n",
    "print(metrics.confusion_matrix(expected, predicted))"
   ]
  },
  {
   "cell_type": "code",
   "execution_count": 54,
   "metadata": {
    "tags": []
   },
   "outputs": [
    {
     "output_type": "stream",
     "name": "stdout",
     "text": "Classification Report:\n              precision    recall  f1-score   support\n\n           0       0.97      0.90      0.93      1240\n           1       0.78      0.96      0.86       155\n           2       0.62      0.80      0.70        96\n           3       0.98      0.90      0.94       486\n           4       0.93      0.94      0.94        87\n           5       0.34      0.86      0.49        28\n           6       0.41      0.90      0.56        20\n           7       0.90      0.98      0.94        47\n\n    accuracy                           0.90      2159\n   macro avg       0.74      0.91      0.80      2159\nweighted avg       0.93      0.90      0.91      2159\n\nConfusion Matrix:\n[[1113   40   40    4    0   30   11    2]\n [   1  149    4    1    0    0    0    0]\n [  10    2   77    2    0    0    5    0]\n [  15    0    1  438    6   15    9    2]\n [   0    0    2    2   82    1    0    0]\n [   1    0    0    2    0   24    0    1]\n [   2    0    0    0    0    0   18    0]\n [   0    0    0    0    0    0    1   46]]\n"
    }
   ],
   "source": [
    "svm_clf = svm.LinearSVC()\n",
    "svm_clf = svm_clf.fit(Xt2,yt2)\n",
    "\n",
    "expected = y_test.iloc[:,1]\n",
    "predicted = svm_clf.predict(X_test)\n",
    "\n",
    "print('Classification Report:')\n",
    "print(metrics.classification_report(expected, predicted))\n",
    "print('Confusion Matrix:')\n",
    "print(metrics.confusion_matrix(expected, predicted))"
   ]
  },
  {
   "cell_type": "code",
   "execution_count": 55,
   "metadata": {
    "tags": []
   },
   "outputs": [
    {
     "output_type": "stream",
     "name": "stdout",
     "text": "Classification Report:\n              precision    recall  f1-score   support\n\n           0       0.94      0.91      0.92       211\n           1       0.99      1.00      0.99      1029\n           2       0.91      0.95      0.93       155\n           3       0.89      0.86      0.88        96\n           4       0.93      0.93      0.93       151\n           5       0.96      0.91      0.93       335\n           6       0.95      0.94      0.95        87\n           7       0.73      0.86      0.79        28\n           8       0.58      0.90      0.71        20\n           9       0.92      0.98      0.95        47\n\n    accuracy                           0.95      2159\n   macro avg       0.88      0.92      0.90      2159\nweighted avg       0.96      0.95      0.95      2159\n\nConfusion Matrix:\n[[ 191    0   11    5    0    1    0    1    1    1]\n [   0 1024    1    0    0    0    0    0    1    3]\n [   3    0  147    2    0    2    0    0    1    0]\n [   6    0    2   83    0    2    0    0    3    0]\n [   3    0    0    0  141    5    0    2    0    0]\n [   0    7    0    1    8  304    4    5    6    0]\n [   0    0    0    2    0    2   82    1    0    0]\n [   0    0    0    0    3    1    0   24    0    0]\n [   1    1    0    0    0    0    0    0   18    0]\n [   0    0    0    0    0    0    0    0    1   46]]\n"
    }
   ],
   "source": [
    "svm_clf = svm.LinearSVC()\n",
    "svm_clf = svm_clf.fit(Xt3,yt3)\n",
    "\n",
    "expected = y_test.iloc[:,2]\n",
    "predicted = svm_clf.predict(X_test)\n",
    "\n",
    "print('Classification Report:')\n",
    "print(metrics.classification_report(expected, predicted))\n",
    "print('Confusion Matrix:')\n",
    "print(metrics.confusion_matrix(expected, predicted))"
   ]
  }
 ],
 "metadata": {
  "kernelspec": {
   "display_name": "Python 3.7.7 64-bit",
   "language": "python",
   "name": "python_defaultSpec_1595615703783"
  },
  "language_info": {
   "codemirror_mode": {
    "name": "ipython",
    "version": 3
   },
   "file_extension": ".py",
   "mimetype": "text/x-python",
   "name": "python",
   "nbconvert_exporter": "python",
   "pygments_lexer": "ipython3",
   "version": "3.7.6"
  }
 },
 "nbformat": 4,
 "nbformat_minor": 2
}