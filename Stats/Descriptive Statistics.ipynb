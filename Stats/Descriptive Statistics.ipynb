{
 "metadata": {
  "language_info": {
   "codemirror_mode": {
    "name": "ipython",
    "version": 3
   },
   "file_extension": ".py",
   "mimetype": "text/x-python",
   "name": "python",
   "nbconvert_exporter": "python",
   "pygments_lexer": "ipython3",
   "version": "3.8.3-final"
  },
  "orig_nbformat": 2,
  "kernelspec": {
   "name": "Python 3.8.3 32-bit",
   "display_name": "Python 3.8.3 32-bit",
   "metadata": {
    "interpreter": {
     "hash": "6d58817d7a36abfa3a827e4c983e24a2b2aeec7ad475bf8b9406aeab7b3302d2"
    }
   }
  }
 },
 "nbformat": 4,
 "nbformat_minor": 2,
 "cells": [
  {
   "source": [
    "import numpy as np\n",
    " \n",
    "\n",
    "data_file = 'ToothGrowth.csv'\n",
    "\n",
    "data = np.genfromtxt(data_file, names=True, delimiter=\",\", dtype=None)\n"
   ],
   "cell_type": "code",
   "metadata": {},
   "execution_count": 2,
   "outputs": []
  },
  {
   "cell_type": "code",
   "execution_count": 3,
   "metadata": {},
   "outputs": [],
   "source": [
    "summary_stats = []\n",
    "for supp_lvl in np.unique(data['supp']):\n",
    "    \n",
    "    for dose_lvl in np.unique(data['dose']):\n",
    "    \n",
    "        # Subsetting\n",
    "        data_to_sum = data[(data['supp'] == supp_lvl) & (data['dose'] == dose_lvl)]\n",
    "        # Calculating the descriptives\n",
    "        mean = data_to_sum['len'].mean()\n",
    "        sd = data_to_sum['len'].std()\n",
    "        max_supp = data_to_sum['len'].max()\n",
    "        min_supp =  data_to_sum['len'].min()\n",
    "        ps = np.percentile(data_to_sum['len'], [25, 75] )\n",
    "        summary_stats.append((mean, sd, max_supp, min_supp, ps[0], ps[1], supp_lvl, dose_lvl))"
   ]
  },
  {
   "cell_type": "code",
   "execution_count": 4,
   "metadata": {},
   "outputs": [],
   "source": [
    "import numpy as np\n",
    "\n",
    "from pandas import DataFrame as df\n",
    "\n",
    "from scipy.stats import trim_mean, kurtosis\n",
    "\n",
    "from scipy.stats.mstats import mode, gmean, hmean"
   ]
  },
  {
   "cell_type": "code",
   "execution_count": 5,
   "metadata": {},
   "outputs": [],
   "source": [
    "N = 20\n",
    "P = [\"noise\",\"quiet\"]\n",
    "Q = [1,2,3]\n",
    "\n",
    "values = [[998,511], [1119,620], [1300,790]]\n",
    "\n",
    "mus = np.concatenate([np.repeat(value, N) for value in values])\n",
    "\n",
    "data = df(data = {'id': [subid for subid in range(N)]*(len(P)*len(Q))\n",
    "    ,'iv1': np.concatenate([np.array([p]*N) for p in P]*len(Q))\n",
    "    ,'iv2': np.concatenate([np.array([q]*(N*len(P))) for q in Q])\n",
    "    ,'rt': np.random.normal(mus, scale=112.0, size=N*len(P)*len(Q))})"
   ]
  },
  {
   "cell_type": "code",
   "execution_count": 6,
   "metadata": {},
   "outputs": [
    {
     "output_type": "execute_result",
     "data": {
      "text/plain": [
       "[[998, 511], [1119, 620], [1300, 790]]"
      ]
     },
     "metadata": {},
     "execution_count": 6
    }
   ],
   "source": [
    "values"
   ]
  },
  {
   "cell_type": "code",
   "execution_count": 8,
   "metadata": {},
   "outputs": [
    {
     "output_type": "execute_result",
     "data": {
      "text/plain": [
       "               id        iv2           rt\n",
       "count  120.000000  120.00000   120.000000\n",
       "mean     9.500000    2.00000   879.208402\n",
       "std      5.790459    0.81992   294.231406\n",
       "min      0.000000    1.00000   328.023422\n",
       "25%      4.750000    1.00000   652.485410\n",
       "50%      9.500000    2.00000   849.636218\n",
       "75%     14.250000    3.00000  1108.547763\n",
       "max     19.000000    3.00000  1514.573717"
      ],
      "text/html": "<div>\n<style scoped>\n    .dataframe tbody tr th:only-of-type {\n        vertical-align: middle;\n    }\n\n    .dataframe tbody tr th {\n        vertical-align: top;\n    }\n\n    .dataframe thead th {\n        text-align: right;\n    }\n</style>\n<table border=\"1\" class=\"dataframe\">\n  <thead>\n    <tr style=\"text-align: right;\">\n      <th></th>\n      <th>id</th>\n      <th>iv2</th>\n      <th>rt</th>\n    </tr>\n  </thead>\n  <tbody>\n    <tr>\n      <th>count</th>\n      <td>120.000000</td>\n      <td>120.00000</td>\n      <td>120.000000</td>\n    </tr>\n    <tr>\n      <th>mean</th>\n      <td>9.500000</td>\n      <td>2.00000</td>\n      <td>879.208402</td>\n    </tr>\n    <tr>\n      <th>std</th>\n      <td>5.790459</td>\n      <td>0.81992</td>\n      <td>294.231406</td>\n    </tr>\n    <tr>\n      <th>min</th>\n      <td>0.000000</td>\n      <td>1.00000</td>\n      <td>328.023422</td>\n    </tr>\n    <tr>\n      <th>25%</th>\n      <td>4.750000</td>\n      <td>1.00000</td>\n      <td>652.485410</td>\n    </tr>\n    <tr>\n      <th>50%</th>\n      <td>9.500000</td>\n      <td>2.00000</td>\n      <td>849.636218</td>\n    </tr>\n    <tr>\n      <th>75%</th>\n      <td>14.250000</td>\n      <td>3.00000</td>\n      <td>1108.547763</td>\n    </tr>\n    <tr>\n      <th>max</th>\n      <td>19.000000</td>\n      <td>3.00000</td>\n      <td>1514.573717</td>\n    </tr>\n  </tbody>\n</table>\n</div>"
     },
     "metadata": {},
     "execution_count": 8
    }
   ],
   "source": [
    "data.describe()"
   ]
  },
  {
   "cell_type": "code",
   "execution_count": 9,
   "metadata": {},
   "outputs": [
    {
     "output_type": "execute_result",
     "data": {
      "text/plain": [
       "      count                    mean                                   std  \\\n",
       "iv2       1     2     3           1            2            3           1   \n",
       "iv1                                                                         \n",
       "noise  20.0  20.0  20.0  981.545480  1101.350824  1297.128321  112.340440   \n",
       "quiet  20.0  20.0  20.0  525.586372   643.204126   726.435287  105.501473   \n",
       "\n",
       "                                      min  ...          25%         50%  \\\n",
       "iv2             2           3           1  ...            3           1   \n",
       "iv1                                        ...                            \n",
       "noise  108.229968  142.696675  759.016061  ...  1206.491679  989.721670   \n",
       "quiet  124.223268   96.492377  328.023422  ...   678.142055  522.320834   \n",
       "\n",
       "                                         75%                            \\\n",
       "iv2              2            3            1            2            3   \n",
       "iv1                                                                      \n",
       "noise  1113.444683  1333.642293  1056.452981  1198.451538  1377.553570   \n",
       "quiet   662.018664   736.629134   612.508449   722.463689   782.987721   \n",
       "\n",
       "               max                            \n",
       "iv2              1            2            3  \n",
       "iv1                                           \n",
       "noise  1187.773703  1252.168442  1514.573717  \n",
       "quiet   703.333336   855.493483   922.590910  \n",
       "\n",
       "[2 rows x 24 columns]"
      ],
      "text/html": "<div>\n<style scoped>\n    .dataframe tbody tr th:only-of-type {\n        vertical-align: middle;\n    }\n\n    .dataframe tbody tr th {\n        vertical-align: top;\n    }\n\n    .dataframe thead tr th {\n        text-align: left;\n    }\n\n    .dataframe thead tr:last-of-type th {\n        text-align: right;\n    }\n</style>\n<table border=\"1\" class=\"dataframe\">\n  <thead>\n    <tr>\n      <th></th>\n      <th colspan=\"3\" halign=\"left\">count</th>\n      <th colspan=\"3\" halign=\"left\">mean</th>\n      <th colspan=\"3\" halign=\"left\">std</th>\n      <th>min</th>\n      <th>...</th>\n      <th>25%</th>\n      <th colspan=\"3\" halign=\"left\">50%</th>\n      <th colspan=\"3\" halign=\"left\">75%</th>\n      <th colspan=\"3\" halign=\"left\">max</th>\n    </tr>\n    <tr>\n      <th>iv2</th>\n      <th>1</th>\n      <th>2</th>\n      <th>3</th>\n      <th>1</th>\n      <th>2</th>\n      <th>3</th>\n      <th>1</th>\n      <th>2</th>\n      <th>3</th>\n      <th>1</th>\n      <th>...</th>\n      <th>3</th>\n      <th>1</th>\n      <th>2</th>\n      <th>3</th>\n      <th>1</th>\n      <th>2</th>\n      <th>3</th>\n      <th>1</th>\n      <th>2</th>\n      <th>3</th>\n    </tr>\n    <tr>\n      <th>iv1</th>\n      <th></th>\n      <th></th>\n      <th></th>\n      <th></th>\n      <th></th>\n      <th></th>\n      <th></th>\n      <th></th>\n      <th></th>\n      <th></th>\n      <th></th>\n      <th></th>\n      <th></th>\n      <th></th>\n      <th></th>\n      <th></th>\n      <th></th>\n      <th></th>\n      <th></th>\n      <th></th>\n      <th></th>\n    </tr>\n  </thead>\n  <tbody>\n    <tr>\n      <th>noise</th>\n      <td>20.0</td>\n      <td>20.0</td>\n      <td>20.0</td>\n      <td>981.545480</td>\n      <td>1101.350824</td>\n      <td>1297.128321</td>\n      <td>112.340440</td>\n      <td>108.229968</td>\n      <td>142.696675</td>\n      <td>759.016061</td>\n      <td>...</td>\n      <td>1206.491679</td>\n      <td>989.721670</td>\n      <td>1113.444683</td>\n      <td>1333.642293</td>\n      <td>1056.452981</td>\n      <td>1198.451538</td>\n      <td>1377.553570</td>\n      <td>1187.773703</td>\n      <td>1252.168442</td>\n      <td>1514.573717</td>\n    </tr>\n    <tr>\n      <th>quiet</th>\n      <td>20.0</td>\n      <td>20.0</td>\n      <td>20.0</td>\n      <td>525.586372</td>\n      <td>643.204126</td>\n      <td>726.435287</td>\n      <td>105.501473</td>\n      <td>124.223268</td>\n      <td>96.492377</td>\n      <td>328.023422</td>\n      <td>...</td>\n      <td>678.142055</td>\n      <td>522.320834</td>\n      <td>662.018664</td>\n      <td>736.629134</td>\n      <td>612.508449</td>\n      <td>722.463689</td>\n      <td>782.987721</td>\n      <td>703.333336</td>\n      <td>855.493483</td>\n      <td>922.590910</td>\n    </tr>\n  </tbody>\n</table>\n<p>2 rows × 24 columns</p>\n</div>"
     },
     "metadata": {},
     "execution_count": 9
    }
   ],
   "source": [
    "\n",
    "grouped_data = data.groupby(['iv1', 'iv2'])\n",
    "\n",
    "grouped_data['rt'].describe().unstack()"
   ]
  },
  {
   "cell_type": "code",
   "execution_count": null,
   "metadata": {},
   "outputs": [],
   "source": [
    "# https://blog.faradars.org/%D8%A2%D9%85%D8%A7%D8%B1-%D8%AA%D9%88%D8%B5%DB%8C%D9%81%DB%8C-%D8%AF%D8%B1-%D9%BE%D8%A7%DB%8C%D8%AA%D9%88%D9%86/"
   ]
  }
 ]
}