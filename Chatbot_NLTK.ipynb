{
  "nbformat": 4,
  "nbformat_minor": 0,
  "metadata": {
    "colab": {
      "name": "Chatbot_NLTK.ipynb",
      "provenance": [],
      "collapsed_sections": [],
      "mount_file_id": "1ElMaA0kJU66siMYU5FgrDJVpiVjL5ZMg",
      "authorship_tag": "ABX9TyMKoe68s1CVj5xyIKlx0+5G",
      "include_colab_link": true
    },
    "kernelspec": {
      "name": "python3",
      "display_name": "Python 3"
    }
  },
  "cells": [
    {
      "cell_type": "markdown",
      "metadata": {
        "id": "view-in-github",
        "colab_type": "text"
      },
      "source": [
        "<a href=\"https://colab.research.google.com/github/Nizad/Python_Projects/blob/Test/Chatbot_NLTK.ipynb\" target=\"_parent\"><img src=\"https://colab.research.google.com/assets/colab-badge.svg\" alt=\"Open In Colab\"/></a>"
      ]
    },
    {
      "cell_type": "code",
      "metadata": {
        "id": "7VKDFP6Hw3CS"
      },
      "source": [
        "from nltk.chat.util import Chat , reflections"
      ],
      "execution_count": 3,
      "outputs": []
    },
    {
      "cell_type": "code",
      "metadata": {
        "id": "-hk2RfUexMBJ"
      },
      "source": [
        "pairs = [\n",
        "         ['(.*)help(.*)' , ['I can help you']],\n",
        "         ['(hi|salam|hey|hello)', ['Hey there','Hi','Hello']],\n",
        "         ['(.*)(location|city|country)', ['Tehran, Iran']],\n",
        "         ['(.*)(address)', ['No.6 , Maryam Building , 17th St (Behzad Shafagh)Ahmad Ghasir(Bokharest) Av. Arjantin Sq.']],\n",
        "         ['(.*)(phone|tel|telephone)', ['+98 (21) 85760']],\n",
        "         ['(.*)(fax)', ['+98 (21) 88706606']],\n",
        "         ['(.*)(email)' , ['extranet@amadeusiran.net']],\n",
        "         ['(.*)(order|invoice|finance|financial|)' , ['http://www.amadeusiran.net/Account/FinancialRecords.aspx']]\n",
        "]"
      ],
      "execution_count": 22,
      "outputs": []
    },
    {
      "cell_type": "code",
      "metadata": {
        "id": "l5VeXxNjyrqm"
      },
      "source": [
        "myreflections = {\n",
        "    'go':'gone',\n",
        "    'hello': 'heeeeey'\n",
        "}"
      ],
      "execution_count": 8,
      "outputs": []
    },
    {
      "cell_type": "code",
      "metadata": {
        "id": "FIbX7ZNex-O9"
      },
      "source": [
        "chat = Chat(pairs, myreflections)\n",
        "chat.converse()"
      ],
      "execution_count": null,
      "outputs": []
    }
  ]
}